{
  "cells": [
    {
      "cell_type": "code",
      "execution_count": null,
      "metadata": {
        "id": "goTmRqBoCjmp"
      },
      "outputs": [],
      "source": [
        "#\"We certify that the code and data in this assignment were generated independently, \n",
        "#using only the tools and resources defined in the course and that I did not receive any external help, \n",
        "#coaching or contributions during the production of this work.\""
      ]
    },
    {
      "cell_type": "code",
      "execution_count": null,
      "metadata": {
        "id": "YE8TgUZxbVuA"
      },
      "outputs": [],
      "source": [
        "import gym\n",
        "from gym import spaces\n",
        "import numpy as np\n",
        "import matplotlib.pyplot as plt\n",
        "from google.colab import widgets\n",
        "import time\n",
        "from operator import add\n",
        "from google.colab import widgets"
      ]
    },
    {
      "cell_type": "code",
      "execution_count": null,
      "metadata": {
        "id": "bpGnAjfQm-sG"
      },
      "outputs": [],
      "source": [
        "class GridEnvironment(gym.Env):\n",
        "  metadata = { 'render.modes': []}\n",
        "  \n",
        "  def __init__(self):\n",
        "    self.observation_space = spaces.Discrete(16)\n",
        "    self.action_space = spaces.Discrete(4)\n",
        "    self.max_timesteps = 20\n",
        " \n",
        "  def reset(self):\n",
        "    self.timestep = 0\n",
        "    \n",
        "    self.agent_pos = [0, 0]\n",
        "    self.goal_pos = [3, 3]\n",
        "    self.reward_1 = 2\n",
        "    self.reward_2 = 2\n",
        "    self.penalty_1 = 1\n",
        "    self.penalty_2 = 1   \n",
        "    self.reward_1_pos = [0,2]\n",
        "    self.reward_2_pos = [2,2]\n",
        "    self.penalty_1_pos = [3,1]\n",
        "    self.penalty_2_pos = [0,3]\n",
        "    self.total_reward = 0\n",
        "    self.state = np.zeros((4, 4))\n",
        "    self.state[tuple(self.agent_pos)] = 1\n",
        "    self.state[tuple(self.goal_pos)] = 0.5  \n",
        "    observation = self.state.flatten()\n",
        "    return observation\n",
        "  def step(self, action):\n",
        "    reward= 0\n",
        "    \n",
        "    if action == 0:\n",
        "      self.agent_pos[0] += 1\n",
        "    if action == 1:\n",
        "      self.agent_pos[0] -= 1\n",
        "    if action == 2:\n",
        "      self.agent_pos[1] += 1\n",
        "    if action == 3:\n",
        "      self.agent_pos[1] -= 1\n",
        "\n",
        "    self.agent_pos = np.clip(self.agent_pos, 0, 3)\n",
        "    self.state = np.zeros((4,4))\n",
        "    self.state[tuple(self.goal_pos)] = 0.5\n",
        "    self.state[tuple(self.agent_pos)] = 1\n",
        "    observation = self.state.flatten()\n",
        "\n",
        "    if (self.agent_pos == self.goal_pos).all():\n",
        "      reward = 10\n",
        "    elif (self.agent_pos == self.reward_1_pos).all():\n",
        "      reward = 7\n",
        "    elif (self.agent_pos == self.reward_2_pos).all():\n",
        "      reward = 8\n",
        "    elif (self.agent_pos == self.penalty_1_pos).all():\n",
        "      reward = -7\n",
        "    elif (self.agent_pos == self.penalty_2_pos).all():\n",
        "      reward = -8\n",
        "\n",
        "        \n",
        "    self.total_reward= self.total_reward + reward\n",
        "    self.timestep += 1\n",
        "\n",
        "    done = True if self.timestep >= self.max_timesteps or (self.agent_pos == self.goal_pos).all() else False\n",
        "\n",
        "    info = {}\n",
        "    return observation, reward, done, info\n",
        "    \n",
        "  def render(self):\n",
        "    plt.imshow(self.state)"
      ]
    },
    {
      "cell_type": "code",
      "execution_count": null,
      "metadata": {
        "id": "kIVG4avL7wHD"
      },
      "outputs": [],
      "source": [
        "class RandomAgent:\n",
        "  def __init__(self, env):\n",
        "    self.env = env\n",
        "    self.observation_space = env.observation_space\n",
        "    self.action_space = env.action_space\n",
        "  def step(self, observation):\n",
        "    return np.random.choice(self.action_space.n)"
      ]
    },
    {
      "cell_type": "code",
      "execution_count": null,
      "metadata": {
        "colab": {
          "base_uri": "https://localhost:8080/",
          "height": 291
        },
        "id": "arl6rNDm7f2L",
        "outputId": "172894c0-14d4-4e69-e664-ee5cd853bf25"
      },
      "outputs": [
        {
          "output_type": "display_data",
          "data": {
            "text/plain": [
              "<IPython.core.display.HTML object>"
            ],
            "text/html": [
              "<style>\n",
              "       table#id2, #id2 > tbody > tr > th, #id2 > tbody > tr > td {\n",
              "         border: 1px solid lightgray;\n",
              "         border-collapse:collapse;\n",
              "         \n",
              "        }</style>"
            ]
          },
          "metadata": {}
        },
        {
          "output_type": "display_data",
          "data": {
            "text/plain": [
              "<IPython.core.display.HTML object>"
            ],
            "text/html": [
              "<table id=id2><tr><td id=id2-0-0></td></tr></table>"
            ]
          },
          "metadata": {}
        },
        {
          "output_type": "display_data",
          "data": {
            "text/plain": [
              "<IPython.core.display.Javascript object>"
            ],
            "application/javascript": [
              "window[\"0e16cbd4-d261-11ec-ac5f-0242ac1c0002\"] = google.colab.output.getActiveOutputArea();\n",
              "//# sourceURL=js_c10cc3bb71"
            ]
          },
          "metadata": {}
        },
        {
          "output_type": "display_data",
          "data": {
            "text/plain": [
              "<IPython.core.display.Javascript object>"
            ],
            "application/javascript": [
              "window[\"0e173024-d261-11ec-ac5f-0242ac1c0002\"] = document.querySelector(\"#id2-0-0\");\n",
              "//# sourceURL=js_dc3a6da10e"
            ]
          },
          "metadata": {}
        },
        {
          "output_type": "display_data",
          "data": {
            "text/plain": [
              "<IPython.core.display.Javascript object>"
            ],
            "application/javascript": [
              "window[\"0e17b86e-d261-11ec-ac5f-0242ac1c0002\"] = google.colab.output.setActiveOutputArea(window[\"0e173024-d261-11ec-ac5f-0242ac1c0002\"]);\n",
              "//# sourceURL=js_4a6bb956a9"
            ]
          },
          "metadata": {}
        },
        {
          "output_type": "display_data",
          "data": {
            "text/plain": [
              "<IPython.core.display.Javascript object>"
            ],
            "application/javascript": [
              "window[\"0e32ff70-d261-11ec-ac5f-0242ac1c0002\"] = google.colab.output.setActiveOutputArea(window[\"0e16cbd4-d261-11ec-ac5f-0242ac1c0002\"]);\n",
              "//# sourceURL=js_5c73f11372"
            ]
          },
          "metadata": {}
        },
        {
          "output_type": "display_data",
          "data": {
            "text/plain": [
              "<IPython.core.display.Javascript object>"
            ],
            "application/javascript": [
              "window[\"0e358100-d261-11ec-ac5f-0242ac1c0002\"] = google.colab.output.getActiveOutputArea();\n",
              "//# sourceURL=js_44a6136270"
            ]
          },
          "metadata": {}
        },
        {
          "output_type": "display_data",
          "data": {
            "text/plain": [
              "<IPython.core.display.Javascript object>"
            ],
            "application/javascript": [
              "window[\"0e35dd12-d261-11ec-ac5f-0242ac1c0002\"] = document.querySelector(\"#id2-0-0\");\n",
              "//# sourceURL=js_ff2fbf55d5"
            ]
          },
          "metadata": {}
        },
        {
          "output_type": "display_data",
          "data": {
            "text/plain": [
              "<IPython.core.display.Javascript object>"
            ],
            "application/javascript": [
              "window[\"0e364554-d261-11ec-ac5f-0242ac1c0002\"] = google.colab.output.setActiveOutputArea(window[\"0e35dd12-d261-11ec-ac5f-0242ac1c0002\"]);\n",
              "//# sourceURL=js_4e62cb417e"
            ]
          },
          "metadata": {}
        },
        {
          "output_type": "display_data",
          "data": {
            "text/plain": [
              "<IPython.core.display.Javascript object>"
            ],
            "application/javascript": [
              "window[\"0e509e9a-d261-11ec-ac5f-0242ac1c0002\"] = google.colab.output.setActiveOutputArea(window[\"0e358100-d261-11ec-ac5f-0242ac1c0002\"]);\n",
              "//# sourceURL=js_ce16de220f"
            ]
          },
          "metadata": {}
        },
        {
          "output_type": "display_data",
          "data": {
            "text/plain": [
              "<IPython.core.display.Javascript object>"
            ],
            "application/javascript": [
              "window[\"0eeb9350-d261-11ec-ac5f-0242ac1c0002\"] = google.colab.output.getActiveOutputArea();\n",
              "//# sourceURL=js_5ca9e13543"
            ]
          },
          "metadata": {}
        },
        {
          "output_type": "display_data",
          "data": {
            "text/plain": [
              "<IPython.core.display.Javascript object>"
            ],
            "application/javascript": [
              "window[\"0eebd554-d261-11ec-ac5f-0242ac1c0002\"] = document.querySelector(\"#id2-0-0\");\n",
              "//# sourceURL=js_f1f449307d"
            ]
          },
          "metadata": {}
        },
        {
          "output_type": "display_data",
          "data": {
            "text/plain": [
              "<IPython.core.display.Javascript object>"
            ],
            "application/javascript": [
              "window[\"0eec11d6-d261-11ec-ac5f-0242ac1c0002\"] = google.colab.output.setActiveOutputArea(window[\"0eebd554-d261-11ec-ac5f-0242ac1c0002\"]);\n",
              "//# sourceURL=js_5804936861"
            ]
          },
          "metadata": {}
        },
        {
          "output_type": "display_data",
          "data": {
            "text/plain": [
              "<IPython.core.display.Javascript object>"
            ],
            "application/javascript": [
              "window[\"0f043e50-d261-11ec-ac5f-0242ac1c0002\"] = google.colab.output.setActiveOutputArea(window[\"0eeb9350-d261-11ec-ac5f-0242ac1c0002\"]);\n",
              "//# sourceURL=js_9bd9793d47"
            ]
          },
          "metadata": {}
        },
        {
          "output_type": "display_data",
          "data": {
            "text/plain": [
              "<IPython.core.display.Javascript object>"
            ],
            "application/javascript": [
              "window[\"0f9f2294-d261-11ec-ac5f-0242ac1c0002\"] = google.colab.output.getActiveOutputArea();\n",
              "//# sourceURL=js_5ac5f2797c"
            ]
          },
          "metadata": {}
        },
        {
          "output_type": "display_data",
          "data": {
            "text/plain": [
              "<IPython.core.display.Javascript object>"
            ],
            "application/javascript": [
              "window[\"0f9facbe-d261-11ec-ac5f-0242ac1c0002\"] = document.querySelector(\"#id2-0-0\");\n",
              "//# sourceURL=js_1a9c694c88"
            ]
          },
          "metadata": {}
        },
        {
          "output_type": "display_data",
          "data": {
            "text/plain": [
              "<IPython.core.display.Javascript object>"
            ],
            "application/javascript": [
              "window[\"0fa043fe-d261-11ec-ac5f-0242ac1c0002\"] = google.colab.output.setActiveOutputArea(window[\"0f9facbe-d261-11ec-ac5f-0242ac1c0002\"]);\n",
              "//# sourceURL=js_f185c689d7"
            ]
          },
          "metadata": {}
        },
        {
          "output_type": "display_data",
          "data": {
            "text/plain": [
              "<IPython.core.display.Javascript object>"
            ],
            "application/javascript": [
              "window[\"0fbb7b06-d261-11ec-ac5f-0242ac1c0002\"] = google.colab.output.setActiveOutputArea(window[\"0f9f2294-d261-11ec-ac5f-0242ac1c0002\"]);\n",
              "//# sourceURL=js_225ac6b6bb"
            ]
          },
          "metadata": {}
        },
        {
          "output_type": "display_data",
          "data": {
            "text/plain": [
              "<IPython.core.display.Javascript object>"
            ],
            "application/javascript": [
              "window[\"1056586a-d261-11ec-ac5f-0242ac1c0002\"] = google.colab.output.getActiveOutputArea();\n",
              "//# sourceURL=js_f66a10d7f1"
            ]
          },
          "metadata": {}
        },
        {
          "output_type": "display_data",
          "data": {
            "text/plain": [
              "<IPython.core.display.Javascript object>"
            ],
            "application/javascript": [
              "window[\"10569eb0-d261-11ec-ac5f-0242ac1c0002\"] = document.querySelector(\"#id2-0-0\");\n",
              "//# sourceURL=js_c70a9afbe6"
            ]
          },
          "metadata": {}
        },
        {
          "output_type": "display_data",
          "data": {
            "text/plain": [
              "<IPython.core.display.Javascript object>"
            ],
            "application/javascript": [
              "window[\"1056e4ba-d261-11ec-ac5f-0242ac1c0002\"] = google.colab.output.setActiveOutputArea(window[\"10569eb0-d261-11ec-ac5f-0242ac1c0002\"]);\n",
              "//# sourceURL=js_9cc2a674fb"
            ]
          },
          "metadata": {}
        },
        {
          "output_type": "display_data",
          "data": {
            "text/plain": [
              "<IPython.core.display.Javascript object>"
            ],
            "application/javascript": [
              "window[\"107815b8-d261-11ec-ac5f-0242ac1c0002\"] = google.colab.output.setActiveOutputArea(window[\"1056586a-d261-11ec-ac5f-0242ac1c0002\"]);\n",
              "//# sourceURL=js_cc50126489"
            ]
          },
          "metadata": {}
        },
        {
          "output_type": "display_data",
          "data": {
            "text/plain": [
              "<IPython.core.display.Javascript object>"
            ],
            "application/javascript": [
              "window[\"11138110-d261-11ec-ac5f-0242ac1c0002\"] = google.colab.output.getActiveOutputArea();\n",
              "//# sourceURL=js_3170e9a4eb"
            ]
          },
          "metadata": {}
        },
        {
          "output_type": "display_data",
          "data": {
            "text/plain": [
              "<IPython.core.display.Javascript object>"
            ],
            "application/javascript": [
              "window[\"1113d70a-d261-11ec-ac5f-0242ac1c0002\"] = document.querySelector(\"#id2-0-0\");\n",
              "//# sourceURL=js_fea4512dd6"
            ]
          },
          "metadata": {}
        },
        {
          "output_type": "display_data",
          "data": {
            "text/plain": [
              "<IPython.core.display.Javascript object>"
            ],
            "application/javascript": [
              "window[\"1114536a-d261-11ec-ac5f-0242ac1c0002\"] = google.colab.output.setActiveOutputArea(window[\"1113d70a-d261-11ec-ac5f-0242ac1c0002\"]);\n",
              "//# sourceURL=js_d35a356f5c"
            ]
          },
          "metadata": {}
        },
        {
          "output_type": "display_data",
          "data": {
            "text/plain": [
              "<IPython.core.display.Javascript object>"
            ],
            "application/javascript": [
              "window[\"112fce60-d261-11ec-ac5f-0242ac1c0002\"] = google.colab.output.setActiveOutputArea(window[\"11138110-d261-11ec-ac5f-0242ac1c0002\"]);\n",
              "//# sourceURL=js_306d58d4fe"
            ]
          },
          "metadata": {}
        },
        {
          "output_type": "display_data",
          "data": {
            "text/plain": [
              "<IPython.core.display.Javascript object>"
            ],
            "application/javascript": [
              "window[\"11cab538-d261-11ec-ac5f-0242ac1c0002\"] = google.colab.output.getActiveOutputArea();\n",
              "//# sourceURL=js_1a080c7f71"
            ]
          },
          "metadata": {}
        },
        {
          "output_type": "display_data",
          "data": {
            "text/plain": [
              "<IPython.core.display.Javascript object>"
            ],
            "application/javascript": [
              "window[\"11cb3a4e-d261-11ec-ac5f-0242ac1c0002\"] = document.querySelector(\"#id2-0-0\");\n",
              "//# sourceURL=js_2b44e0588d"
            ]
          },
          "metadata": {}
        },
        {
          "output_type": "display_data",
          "data": {
            "text/plain": [
              "<IPython.core.display.Javascript object>"
            ],
            "application/javascript": [
              "window[\"11cbbbf4-d261-11ec-ac5f-0242ac1c0002\"] = google.colab.output.setActiveOutputArea(window[\"11cb3a4e-d261-11ec-ac5f-0242ac1c0002\"]);\n",
              "//# sourceURL=js_81b13bb0b5"
            ]
          },
          "metadata": {}
        },
        {
          "output_type": "display_data",
          "data": {
            "text/plain": [
              "<IPython.core.display.Javascript object>"
            ],
            "application/javascript": [
              "window[\"11e5175c-d261-11ec-ac5f-0242ac1c0002\"] = google.colab.output.setActiveOutputArea(window[\"11cab538-d261-11ec-ac5f-0242ac1c0002\"]);\n",
              "//# sourceURL=js_21758fe7d5"
            ]
          },
          "metadata": {}
        },
        {
          "output_type": "display_data",
          "data": {
            "text/plain": [
              "<IPython.core.display.Javascript object>"
            ],
            "application/javascript": [
              "window[\"128100e0-d261-11ec-ac5f-0242ac1c0002\"] = google.colab.output.getActiveOutputArea();\n",
              "//# sourceURL=js_14141c9381"
            ]
          },
          "metadata": {}
        },
        {
          "output_type": "display_data",
          "data": {
            "text/plain": [
              "<IPython.core.display.Javascript object>"
            ],
            "application/javascript": [
              "window[\"1281604e-d261-11ec-ac5f-0242ac1c0002\"] = document.querySelector(\"#id2-0-0\");\n",
              "//# sourceURL=js_9913abc833"
            ]
          },
          "metadata": {}
        },
        {
          "output_type": "display_data",
          "data": {
            "text/plain": [
              "<IPython.core.display.Javascript object>"
            ],
            "application/javascript": [
              "window[\"12825850-d261-11ec-ac5f-0242ac1c0002\"] = google.colab.output.setActiveOutputArea(window[\"1281604e-d261-11ec-ac5f-0242ac1c0002\"]);\n",
              "//# sourceURL=js_db62fce535"
            ]
          },
          "metadata": {}
        },
        {
          "output_type": "display_data",
          "data": {
            "text/plain": [
              "<IPython.core.display.Javascript object>"
            ],
            "application/javascript": [
              "window[\"129de200-d261-11ec-ac5f-0242ac1c0002\"] = google.colab.output.setActiveOutputArea(window[\"128100e0-d261-11ec-ac5f-0242ac1c0002\"]);\n",
              "//# sourceURL=js_ee67a93123"
            ]
          },
          "metadata": {}
        },
        {
          "output_type": "display_data",
          "data": {
            "text/plain": [
              "<IPython.core.display.Javascript object>"
            ],
            "application/javascript": [
              "window[\"13394a06-d261-11ec-ac5f-0242ac1c0002\"] = google.colab.output.getActiveOutputArea();\n",
              "//# sourceURL=js_022841586c"
            ]
          },
          "metadata": {}
        },
        {
          "output_type": "display_data",
          "data": {
            "text/plain": [
              "<IPython.core.display.Javascript object>"
            ],
            "application/javascript": [
              "window[\"13399cd6-d261-11ec-ac5f-0242ac1c0002\"] = document.querySelector(\"#id2-0-0\");\n",
              "//# sourceURL=js_a4dc09515a"
            ]
          },
          "metadata": {}
        },
        {
          "output_type": "display_data",
          "data": {
            "text/plain": [
              "<IPython.core.display.Javascript object>"
            ],
            "application/javascript": [
              "window[\"1339f96a-d261-11ec-ac5f-0242ac1c0002\"] = google.colab.output.setActiveOutputArea(window[\"13399cd6-d261-11ec-ac5f-0242ac1c0002\"]);\n",
              "//# sourceURL=js_b11001e521"
            ]
          },
          "metadata": {}
        },
        {
          "output_type": "display_data",
          "data": {
            "text/plain": [
              "<IPython.core.display.Javascript object>"
            ],
            "application/javascript": [
              "window[\"1358d4c0-d261-11ec-ac5f-0242ac1c0002\"] = google.colab.output.setActiveOutputArea(window[\"13394a06-d261-11ec-ac5f-0242ac1c0002\"]);\n",
              "//# sourceURL=js_7615bf504b"
            ]
          },
          "metadata": {}
        },
        {
          "output_type": "display_data",
          "data": {
            "text/plain": [
              "<IPython.core.display.Javascript object>"
            ],
            "application/javascript": [
              "window[\"13f40d14-d261-11ec-ac5f-0242ac1c0002\"] = google.colab.output.getActiveOutputArea();\n",
              "//# sourceURL=js_44b8ec2f3b"
            ]
          },
          "metadata": {}
        },
        {
          "output_type": "display_data",
          "data": {
            "text/plain": [
              "<IPython.core.display.Javascript object>"
            ],
            "application/javascript": [
              "window[\"13f46a34-d261-11ec-ac5f-0242ac1c0002\"] = document.querySelector(\"#id2-0-0\");\n",
              "//# sourceURL=js_8efcbbcb8d"
            ]
          },
          "metadata": {}
        },
        {
          "output_type": "display_data",
          "data": {
            "text/plain": [
              "<IPython.core.display.Javascript object>"
            ],
            "application/javascript": [
              "window[\"13f4cd76-d261-11ec-ac5f-0242ac1c0002\"] = google.colab.output.setActiveOutputArea(window[\"13f46a34-d261-11ec-ac5f-0242ac1c0002\"]);\n",
              "//# sourceURL=js_60d9a8bd8c"
            ]
          },
          "metadata": {}
        },
        {
          "output_type": "display_data",
          "data": {
            "text/plain": [
              "<IPython.core.display.Javascript object>"
            ],
            "application/javascript": [
              "window[\"14114bfe-d261-11ec-ac5f-0242ac1c0002\"] = google.colab.output.setActiveOutputArea(window[\"13f40d14-d261-11ec-ac5f-0242ac1c0002\"]);\n",
              "//# sourceURL=js_1ad8709729"
            ]
          },
          "metadata": {}
        },
        {
          "output_type": "display_data",
          "data": {
            "text/plain": [
              "<IPython.core.display.Javascript object>"
            ],
            "application/javascript": [
              "window[\"14ac4c30-d261-11ec-ac5f-0242ac1c0002\"] = google.colab.output.getActiveOutputArea();\n",
              "//# sourceURL=js_552cc6f3b5"
            ]
          },
          "metadata": {}
        },
        {
          "output_type": "display_data",
          "data": {
            "text/plain": [
              "<IPython.core.display.Javascript object>"
            ],
            "application/javascript": [
              "window[\"14acab6c-d261-11ec-ac5f-0242ac1c0002\"] = document.querySelector(\"#id2-0-0\");\n",
              "//# sourceURL=js_5bb3489d24"
            ]
          },
          "metadata": {}
        },
        {
          "output_type": "display_data",
          "data": {
            "text/plain": [
              "<IPython.core.display.Javascript object>"
            ],
            "application/javascript": [
              "window[\"14ad32d0-d261-11ec-ac5f-0242ac1c0002\"] = google.colab.output.setActiveOutputArea(window[\"14acab6c-d261-11ec-ac5f-0242ac1c0002\"]);\n",
              "//# sourceURL=js_613270cdea"
            ]
          },
          "metadata": {}
        },
        {
          "output_type": "display_data",
          "data": {
            "text/plain": [
              "<IPython.core.display.Javascript object>"
            ],
            "application/javascript": [
              "window[\"14c7cd2a-d261-11ec-ac5f-0242ac1c0002\"] = google.colab.output.setActiveOutputArea(window[\"14ac4c30-d261-11ec-ac5f-0242ac1c0002\"]);\n",
              "//# sourceURL=js_cdf254ba6c"
            ]
          },
          "metadata": {}
        },
        {
          "output_type": "display_data",
          "data": {
            "text/plain": [
              "<IPython.core.display.Javascript object>"
            ],
            "application/javascript": [
              "window[\"1562af98-d261-11ec-ac5f-0242ac1c0002\"] = google.colab.output.getActiveOutputArea();\n",
              "//# sourceURL=js_c084714d03"
            ]
          },
          "metadata": {}
        },
        {
          "output_type": "display_data",
          "data": {
            "text/plain": [
              "<IPython.core.display.Javascript object>"
            ],
            "application/javascript": [
              "window[\"1563ca7c-d261-11ec-ac5f-0242ac1c0002\"] = document.querySelector(\"#id2-0-0\");\n",
              "//# sourceURL=js_4f4eca1f2e"
            ]
          },
          "metadata": {}
        },
        {
          "output_type": "display_data",
          "data": {
            "text/plain": [
              "<IPython.core.display.Javascript object>"
            ],
            "application/javascript": [
              "window[\"15644948-d261-11ec-ac5f-0242ac1c0002\"] = google.colab.output.setActiveOutputArea(window[\"1563ca7c-d261-11ec-ac5f-0242ac1c0002\"]);\n",
              "//# sourceURL=js_29373fcf34"
            ]
          },
          "metadata": {}
        },
        {
          "output_type": "display_data",
          "data": {
            "text/plain": [
              "<IPython.core.display.Javascript object>"
            ],
            "application/javascript": [
              "window[\"157ce4c6-d261-11ec-ac5f-0242ac1c0002\"] = google.colab.output.setActiveOutputArea(window[\"1562af98-d261-11ec-ac5f-0242ac1c0002\"]);\n",
              "//# sourceURL=js_988adf0ee8"
            ]
          },
          "metadata": {}
        },
        {
          "output_type": "display_data",
          "data": {
            "text/plain": [
              "<IPython.core.display.Javascript object>"
            ],
            "application/javascript": [
              "window[\"1617c734-d261-11ec-ac5f-0242ac1c0002\"] = google.colab.output.getActiveOutputArea();\n",
              "//# sourceURL=js_33c6bd572c"
            ]
          },
          "metadata": {}
        },
        {
          "output_type": "display_data",
          "data": {
            "text/plain": [
              "<IPython.core.display.Javascript object>"
            ],
            "application/javascript": [
              "window[\"1618276a-d261-11ec-ac5f-0242ac1c0002\"] = document.querySelector(\"#id2-0-0\");\n",
              "//# sourceURL=js_e19f1ed42b"
            ]
          },
          "metadata": {}
        },
        {
          "output_type": "display_data",
          "data": {
            "text/plain": [
              "<IPython.core.display.Javascript object>"
            ],
            "application/javascript": [
              "window[\"1618864c-d261-11ec-ac5f-0242ac1c0002\"] = google.colab.output.setActiveOutputArea(window[\"1618276a-d261-11ec-ac5f-0242ac1c0002\"]);\n",
              "//# sourceURL=js_f2b5775592"
            ]
          },
          "metadata": {}
        },
        {
          "output_type": "stream",
          "name": "stdout",
          "text": [
            "{}\n"
          ]
        },
        {
          "output_type": "display_data",
          "data": {
            "text/plain": [
              "<Figure size 432x288 with 1 Axes>"
            ],
            "image/png": "[encoded data removed]"
          },
          "metadata": {
            "needs_background": "light"
          }
        },
        {
          "output_type": "display_data",
          "data": {
            "text/plain": [
              "<IPython.core.display.Javascript object>"
            ],
            "application/javascript": [
              "window[\"1635b988-d261-11ec-ac5f-0242ac1c0002\"] = google.colab.output.setActiveOutputArea(window[\"1617c734-d261-11ec-ac5f-0242ac1c0002\"]);\n",
              "//# sourceURL=js_a8a855b7e9"
            ]
          },
          "metadata": {}
        }
      ],
      "source": [
        "env = GridEnvironment()\n",
        "done = False\n",
        "agent = RandomAgent(env)\n",
        "obs = env.reset()\n",
        "output_grid = widgets.Grid(1, 1)\n",
        "with output_grid.output_to(0, 0):\n",
        "  env.render()\n",
        "\n",
        "while not done:\n",
        "  action = agent.step(obs)\n",
        "  obs, reward, done, info = env.step(action)\n",
        "  with output_grid.output_to(0, 0):\n",
        "    output_grid.clear_cell()\n",
        "    env.render()\n",
        "    print(info)        \n",
        "  time.sleep(1)\n",
        "  "
      ]
    },
    {
      "cell_type": "markdown",
      "source": [
        "# PART 2"
      ],
      "metadata": {
        "id": "syzvQ-T3K-_O"
      }
    },
    {
      "cell_type": "markdown",
      "source": [
        "## Implementation of SARSA"
      ],
      "metadata": {
        "id": "MKO5PaNb8w9M"
      }
    },
    {
      "cell_type": "code",
      "execution_count": null,
      "metadata": {
        "id": "ntRLVH6P-wHV"
      },
      "outputs": [],
      "source": [
        "#Implementation of SARSA\n",
        "class SARSA:\n",
        "#Intializing env and agent\n",
        "    def __init__(self,env,agent):\n",
        "        self.values_estm = []\n",
        "        self.values_rew = []\n",
        "        self.env = env\n",
        "        self.agent = agent\n",
        "        self.observation_space = env.observation_space\n",
        "        self.action_space = env.action_space\n",
        "        self.Q_table = np.zeros((self.observation_space.n,self.action_space.n))\n",
        "# Training the algorithm for following parameters    \n",
        "    def model(self,al,gm,epsd,decay):\n",
        "        var_est = 1\n",
        "        time_step = []\n",
        "        my_episode = np.arange(epsd) # evenly spaced episodes\n",
        "        for instn_epi in my_episode:\n",
        "            max_ts = 0\n",
        "            end_epsd = False\n",
        "            obs = self.env.reset()\n",
        "            self.values_estm.append(var_est)\n",
        "            num_step=0\n",
        "            tot_reward=0\n",
        "            max_ts += 1\n",
        "            time_step.append(max_ts)\n",
        "            rew = 0\n",
        "            while not end_epsd:\n",
        "                cur_agent = int(np.where(obs==1)[rew][rew])\n",
        "                randp = np.random.uniform(0,1)\n",
        "                if randp < var_est:\n",
        "                  action1= int(self.agent.step(obs))\n",
        "                else:\n",
        "                  action1= int(np.argmax(self.Q_table, axis=1)[cur_agent])\n",
        "                obs, reward, done, info = self.env.step(action1)\n",
        "                tot_reward += reward\n",
        "                nxt_agent = int(np.where(obs==1)[rew][rew])\n",
        "                if done!=True:\n",
        "                  randp = np.random.uniform(0,1)\n",
        "                  if var_est > randp:\n",
        "                    action2= self.agent.step(obs)\n",
        "                    action2=int(action2)\n",
        "                  else:\n",
        "                    action2= np.argmax(self.Q_table, axis=1)[nxt_agent]\n",
        "                    action2=int(action2)\n",
        "                  self.Q_table[cur_agent][action1] = self.Q_table[cur_agent][action1] + al*((reward+gm*self.Q_table[nxt_agent][action2])-(self.Q_table[cur_agent][action1]))\n",
        "                  num_step+=1\n",
        "                else:\n",
        "                  self.Q_table[cur_agent][action1] = self.Q_table[cur_agent][action1] + al*((reward)-(self.Q_table[cur_agent][action1]))\n",
        "                  num_step+=1\n",
        "                end_epsd = done\n",
        "            self.values_rew.append(tot_reward)\n",
        "            var_est = var_est * decay\n",
        "\n",
        "            if var_est <= 0.01:\n",
        "                break"
      ]
    },
    {
      "cell_type": "code",
      "execution_count": null,
      "metadata": {
        "colab": {
          "base_uri": "https://localhost:8080/",
          "height": 282
        },
        "id": "ndZtMw1dwGoh",
        "outputId": "a40833e1-fa94-4eff-8509-6872cf259f97"
      },
      "outputs": [
        {
          "output_type": "display_data",
          "data": {
            "text/plain": [
              "<Figure size 432x288 with 1 Axes>"
            ],
            "image/png": "[encoded data removed]"
          },
          "metadata": {
            "needs_background": "light"
          }
        }
      ],
      "source": [
        "env = GridEnvironment()\n",
        "agent = RandomAgent(env)\n",
        "sarsa_obs = SARSA(env,agent)\n",
        "sarsa_obs.model(0.2,0.8,400,0.990)\n",
        "plt.ylabel(' Rewards')\n",
        "plt.xlabel('Episodes ') \n",
        "plt.plot(sarsa_obs.values_rew,color='orange') \n",
        "plt.xticks(range(0,len(sarsa_obs.values_rew)+1, 1)) \n",
        "plt.show()"
      ]
    },
    {
      "cell_type": "markdown",
      "source": [
        "### Epsilon decay"
      ],
      "metadata": {
        "id": "S5oJ3JUeLO-x"
      }
    },
    {
      "cell_type": "code",
      "source": [
        "plt.plot(sarsa_obs.values_estm,mfc='pink') \n",
        "plt.ylabel('Rewards')\n",
        "plt.xlabel('Iterations') \n",
        "plt.title(\"Epsilon Decay SARSA Algorithm\") \n",
        "plt.show()"
      ],
      "metadata": {
        "colab": {
          "base_uri": "https://localhost:8080/",
          "height": 295
        },
        "id": "4LnVosm7q3FL",
        "outputId": "f9cfddf8-2fd3-41e7-e71c-13e14f2dcebf"
      },
      "execution_count": null,
      "outputs": [
        {
          "output_type": "display_data",
          "data": {
            "text/plain": [
              "<Figure size 432x288 with 1 Axes>"
            ],
            "image/png": "[encoded data removed]"
          },
          "metadata": {
            "needs_background": "light"
          }
        }
      ]
    },
    {
      "cell_type": "markdown",
      "source": [
        "### Total Rewards per episode"
      ],
      "metadata": {
        "id": "AddeFHeVLUcQ"
      }
    },
    {
      "cell_type": "code",
      "source": [
        "plt.figure(figsize=(10,5))\n",
        "plt.xlabel('Episodes')\n",
        "plt.ylabel('Rewards')\n",
        "plt.plot(sarsa_obs.values_rew)"
      ],
      "metadata": {
        "colab": {
          "base_uri": "https://localhost:8080/",
          "height": 354
        },
        "id": "VqmlVCfdrQB-",
        "outputId": "1e3b0023-a514-47ef-d149-2d29f1d5eff0"
      },
      "execution_count": null,
      "outputs": [
        {
          "output_type": "execute_result",
          "data": {
            "text/plain": [
              "[<matplotlib.lines.Line2D at 0x7f7ee1971dd0>]"
            ]
          },
          "metadata": {},
          "execution_count": 9
        },
        {
          "output_type": "display_data",
          "data": {
            "text/plain": [
              "<Figure size 720x360 with 1 Axes>"
            ],
            "image/png": "[encoded data removed]"
          },
          "metadata": {
            "needs_background": "light"
          }
        }
      ]
    },
    {
      "cell_type": "code",
      "source": [
        "Qtable = np.zeros((4,4,env.action_space.n))\n",
        "env = GridEnvironment()\n",
        "obs = env.reset()\n",
        "done = False\n",
        "output_grid = widgets.Grid(1, 1)\n",
        "with output_grid.output_to(0, 0):\n",
        "  env.render()\n",
        "\n",
        "while not done:\n",
        "  if np.random.uniform(0,1) < 0.9:\n",
        "    action = np.random.choice(env.action_space.n)\n",
        "  else:\n",
        "    action = np.argmax(Qtable[obs[0],obs[1]])\n",
        "  obs, reward, done, info = env.step(action)\n",
        "  with output_grid.output_to(0, 0):\n",
        "    output_grid.clear_cell()\n",
        "    env.render()\n",
        "  print(\"Reward:\",reward)\n",
        "  time.sleep(1)"
      ],
      "metadata": {
        "colab": {
          "base_uri": "https://localhost:8080/",
          "height": 620
        },
        "id": "qNVBGAKHrjxv",
        "outputId": "1942e732-935d-4b52-90c7-b306c0fc7a9e"
      },
      "execution_count": null,
      "outputs": [
        {
          "output_type": "display_data",
          "data": {
            "text/plain": [
              "<IPython.core.display.HTML object>"
            ],
            "text/html": [
              "<style>\n",
              "       table#id10, #id10 > tbody > tr > th, #id10 > tbody > tr > td {\n",
              "         border: 1px solid lightgray;\n",
              "         border-collapse:collapse;\n",
              "         \n",
              "        }</style>"
            ]
          },
          "metadata": {}
        },
        {
          "output_type": "display_data",
          "data": {
            "text/plain": [
              "<IPython.core.display.HTML object>"
            ],
            "text/html": [
              "<table id=id10><tr><td id=id10-0-0></td></tr></table>"
            ]
          },
          "metadata": {}
        },
        {
          "output_type": "display_data",
          "data": {
            "text/plain": [
              "<IPython.core.display.Javascript object>"
            ],
            "application/javascript": [
              "window[\"8f9924b0-d25a-11ec-b92e-0242ac1c0002\"] = google.colab.output.getActiveOutputArea();\n",
              "//# sourceURL=js_baa0ca63b9"
            ]
          },
          "metadata": {}
        },
        {
          "output_type": "display_data",
          "data": {
            "text/plain": [
              "<IPython.core.display.Javascript object>"
            ],
            "application/javascript": [
              "window[\"8f998608-d25a-11ec-b92e-0242ac1c0002\"] = document.querySelector(\"#id10-0-0\");\n",
              "//# sourceURL=js_4efc5571bb"
            ]
          },
          "metadata": {}
        },
        {
          "output_type": "display_data",
          "data": {
            "text/plain": [
              "<IPython.core.display.Javascript object>"
            ],
            "application/javascript": [
              "window[\"8f99ede6-d25a-11ec-b92e-0242ac1c0002\"] = google.colab.output.setActiveOutputArea(window[\"8f998608-d25a-11ec-b92e-0242ac1c0002\"]);\n",
              "//# sourceURL=js_394e8e197e"
            ]
          },
          "metadata": {}
        },
        {
          "output_type": "display_data",
          "data": {
            "text/plain": [
              "<IPython.core.display.Javascript object>"
            ],
            "application/javascript": [
              "window[\"8fb262a4-d25a-11ec-b92e-0242ac1c0002\"] = google.colab.output.setActiveOutputArea(window[\"8f9924b0-d25a-11ec-b92e-0242ac1c0002\"]);\n",
              "//# sourceURL=js_39a0f07c64"
            ]
          },
          "metadata": {}
        },
        {
          "output_type": "display_data",
          "data": {
            "text/plain": [
              "<IPython.core.display.Javascript object>"
            ],
            "application/javascript": [
              "window[\"8fb4998e-d25a-11ec-b92e-0242ac1c0002\"] = google.colab.output.getActiveOutputArea();\n",
              "//# sourceURL=js_d074ed0191"
            ]
          },
          "metadata": {}
        },
        {
          "output_type": "display_data",
          "data": {
            "text/plain": [
              "<IPython.core.display.Javascript object>"
            ],
            "application/javascript": [
              "window[\"8fb4f744-d25a-11ec-b92e-0242ac1c0002\"] = document.querySelector(\"#id10-0-0\");\n",
              "//# sourceURL=js_0566da1345"
            ]
          },
          "metadata": {}
        },
        {
          "output_type": "display_data",
          "data": {
            "text/plain": [
              "<IPython.core.display.Javascript object>"
            ],
            "application/javascript": [
              "window[\"8fb553d8-d25a-11ec-b92e-0242ac1c0002\"] = google.colab.output.setActiveOutputArea(window[\"8fb4f744-d25a-11ec-b92e-0242ac1c0002\"]);\n",
              "//# sourceURL=js_d0946c3ef1"
            ]
          },
          "metadata": {}
        },
        {
          "output_type": "display_data",
          "data": {
            "text/plain": [
              "<IPython.core.display.Javascript object>"
            ],
            "application/javascript": [
              "window[\"8fd0fb4c-d25a-11ec-b92e-0242ac1c0002\"] = google.colab.output.setActiveOutputArea(window[\"8fb4998e-d25a-11ec-b92e-0242ac1c0002\"]);\n",
              "//# sourceURL=js_545592c28b"
            ]
          },
          "metadata": {}
        },
        {
          "output_type": "stream",
          "name": "stdout",
          "text": [
            "Reward: 0\n"
          ]
        },
        {
          "output_type": "display_data",
          "data": {
            "text/plain": [
              "<IPython.core.display.Javascript object>"
            ],
            "application/javascript": [
              "window[\"906c090c-d25a-11ec-b92e-0242ac1c0002\"] = google.colab.output.getActiveOutputArea();\n",
              "//# sourceURL=js_2434f5e0f0"
            ]
          },
          "metadata": {}
        },
        {
          "output_type": "display_data",
          "data": {
            "text/plain": [
              "<IPython.core.display.Javascript object>"
            ],
            "application/javascript": [
              "window[\"906c9b38-d25a-11ec-b92e-0242ac1c0002\"] = document.querySelector(\"#id10-0-0\");\n",
              "//# sourceURL=js_e49645ac7b"
            ]
          },
          "metadata": {}
        },
        {
          "output_type": "display_data",
          "data": {
            "text/plain": [
              "<IPython.core.display.Javascript object>"
            ],
            "application/javascript": [
              "window[\"906d5faa-d25a-11ec-b92e-0242ac1c0002\"] = google.colab.output.setActiveOutputArea(window[\"906c9b38-d25a-11ec-b92e-0242ac1c0002\"]);\n",
              "//# sourceURL=js_363de0dbab"
            ]
          },
          "metadata": {}
        },
        {
          "output_type": "display_data",
          "data": {
            "text/plain": [
              "<IPython.core.display.Javascript object>"
            ],
            "application/javascript": [
              "window[\"908a9782-d25a-11ec-b92e-0242ac1c0002\"] = google.colab.output.setActiveOutputArea(window[\"906c090c-d25a-11ec-b92e-0242ac1c0002\"]);\n",
              "//# sourceURL=js_d0e879e0c4"
            ]
          },
          "metadata": {}
        },
        {
          "output_type": "stream",
          "name": "stdout",
          "text": [
            "Reward: 0\n"
          ]
        },
        {
          "output_type": "display_data",
          "data": {
            "text/plain": [
              "<IPython.core.display.Javascript object>"
            ],
            "application/javascript": [
              "window[\"91284158-d25a-11ec-b92e-0242ac1c0002\"] = google.colab.output.getActiveOutputArea();\n",
              "//# sourceURL=js_a8a9661443"
            ]
          },
          "metadata": {}
        },
        {
          "output_type": "display_data",
          "data": {
            "text/plain": [
              "<IPython.core.display.Javascript object>"
            ],
            "application/javascript": [
              "window[\"9128a63e-d25a-11ec-b92e-0242ac1c0002\"] = document.querySelector(\"#id10-0-0\");\n",
              "//# sourceURL=js_3398e7efb5"
            ]
          },
          "metadata": {}
        },
        {
          "output_type": "display_data",
          "data": {
            "text/plain": [
              "<IPython.core.display.Javascript object>"
            ],
            "application/javascript": [
              "window[\"91292460-d25a-11ec-b92e-0242ac1c0002\"] = google.colab.output.setActiveOutputArea(window[\"9128a63e-d25a-11ec-b92e-0242ac1c0002\"]);\n",
              "//# sourceURL=js_bcb1575e15"
            ]
          },
          "metadata": {}
        },
        {
          "output_type": "display_data",
          "data": {
            "text/plain": [
              "<IPython.core.display.Javascript object>"
            ],
            "application/javascript": [
              "window[\"91513770-d25a-11ec-b92e-0242ac1c0002\"] = google.colab.output.setActiveOutputArea(window[\"91284158-d25a-11ec-b92e-0242ac1c0002\"]);\n",
              "//# sourceURL=js_0730e63375"
            ]
          },
          "metadata": {}
        },
        {
          "output_type": "stream",
          "name": "stdout",
          "text": [
            "Reward: 0\n"
          ]
        },
        {
          "output_type": "display_data",
          "data": {
            "text/plain": [
              "<IPython.core.display.Javascript object>"
            ],
            "application/javascript": [
              "window[\"91edf65a-d25a-11ec-b92e-0242ac1c0002\"] = google.colab.output.getActiveOutputArea();\n",
              "//# sourceURL=js_490110de7f"
            ]
          },
          "metadata": {}
        },
        {
          "output_type": "display_data",
          "data": {
            "text/plain": [
              "<IPython.core.display.Javascript object>"
            ],
            "application/javascript": [
              "window[\"91ee6bf8-d25a-11ec-b92e-0242ac1c0002\"] = document.querySelector(\"#id10-0-0\");\n",
              "//# sourceURL=js_19e43c9ce4"
            ]
          },
          "metadata": {}
        },
        {
          "output_type": "display_data",
          "data": {
            "text/plain": [
              "<IPython.core.display.Javascript object>"
            ],
            "application/javascript": [
              "window[\"91eed4f8-d25a-11ec-b92e-0242ac1c0002\"] = google.colab.output.setActiveOutputArea(window[\"91ee6bf8-d25a-11ec-b92e-0242ac1c0002\"]);\n",
              "//# sourceURL=js_b3249483a9"
            ]
          },
          "metadata": {}
        },
        {
          "output_type": "display_data",
          "data": {
            "text/plain": [
              "<IPython.core.display.Javascript object>"
            ],
            "application/javascript": [
              "window[\"9208ebe0-d25a-11ec-b92e-0242ac1c0002\"] = google.colab.output.setActiveOutputArea(window[\"91edf65a-d25a-11ec-b92e-0242ac1c0002\"]);\n",
              "//# sourceURL=js_3e7275f8fe"
            ]
          },
          "metadata": {}
        },
        {
          "output_type": "stream",
          "name": "stdout",
          "text": [
            "Reward: 0\n"
          ]
        },
        {
          "output_type": "display_data",
          "data": {
            "text/plain": [
              "<IPython.core.display.Javascript object>"
            ],
            "application/javascript": [
              "window[\"92a40648-d25a-11ec-b92e-0242ac1c0002\"] = google.colab.output.getActiveOutputArea();\n",
              "//# sourceURL=js_8636499115"
            ]
          },
          "metadata": {}
        },
        {
          "output_type": "display_data",
          "data": {
            "text/plain": [
              "<IPython.core.display.Javascript object>"
            ],
            "application/javascript": [
              "window[\"92a4f4ae-d25a-11ec-b92e-0242ac1c0002\"] = document.querySelector(\"#id10-0-0\");\n",
              "//# sourceURL=js_e41f5e18a7"
            ]
          },
          "metadata": {}
        },
        {
          "output_type": "display_data",
          "data": {
            "text/plain": [
              "<IPython.core.display.Javascript object>"
            ],
            "application/javascript": [
              "window[\"92a56290-d25a-11ec-b92e-0242ac1c0002\"] = google.colab.output.setActiveOutputArea(window[\"92a4f4ae-d25a-11ec-b92e-0242ac1c0002\"]);\n",
              "//# sourceURL=js_b57909b02a"
            ]
          },
          "metadata": {}
        },
        {
          "output_type": "display_data",
          "data": {
            "text/plain": [
              "<IPython.core.display.Javascript object>"
            ],
            "application/javascript": [
              "window[\"92c409ac-d25a-11ec-b92e-0242ac1c0002\"] = google.colab.output.setActiveOutputArea(window[\"92a40648-d25a-11ec-b92e-0242ac1c0002\"]);\n",
              "//# sourceURL=js_7e3b9740e2"
            ]
          },
          "metadata": {}
        },
        {
          "output_type": "stream",
          "name": "stdout",
          "text": [
            "Reward: 7\n"
          ]
        },
        {
          "output_type": "display_data",
          "data": {
            "text/plain": [
              "<IPython.core.display.Javascript object>"
            ],
            "application/javascript": [
              "window[\"935fa8da-d25a-11ec-b92e-0242ac1c0002\"] = google.colab.output.getActiveOutputArea();\n",
              "//# sourceURL=js_642b93164a"
            ]
          },
          "metadata": {}
        },
        {
          "output_type": "display_data",
          "data": {
            "text/plain": [
              "<IPython.core.display.Javascript object>"
            ],
            "application/javascript": [
              "window[\"935ffc5e-d25a-11ec-b92e-0242ac1c0002\"] = document.querySelector(\"#id10-0-0\");\n",
              "//# sourceURL=js_f2b4fa23ce"
            ]
          },
          "metadata": {}
        },
        {
          "output_type": "display_data",
          "data": {
            "text/plain": [
              "<IPython.core.display.Javascript object>"
            ],
            "application/javascript": [
              "window[\"93607a80-d25a-11ec-b92e-0242ac1c0002\"] = google.colab.output.setActiveOutputArea(window[\"935ffc5e-d25a-11ec-b92e-0242ac1c0002\"]);\n",
              "//# sourceURL=js_278c2f13e5"
            ]
          },
          "metadata": {}
        },
        {
          "output_type": "display_data",
          "data": {
            "text/plain": [
              "<IPython.core.display.Javascript object>"
            ],
            "application/javascript": [
              "window[\"937a361e-d25a-11ec-b92e-0242ac1c0002\"] = google.colab.output.setActiveOutputArea(window[\"935fa8da-d25a-11ec-b92e-0242ac1c0002\"]);\n",
              "//# sourceURL=js_b728557349"
            ]
          },
          "metadata": {}
        },
        {
          "output_type": "stream",
          "name": "stdout",
          "text": [
            "Reward: 0\n"
          ]
        },
        {
          "output_type": "display_data",
          "data": {
            "text/plain": [
              "<IPython.core.display.Javascript object>"
            ],
            "application/javascript": [
              "window[\"941540a0-d25a-11ec-b92e-0242ac1c0002\"] = google.colab.output.getActiveOutputArea();\n",
              "//# sourceURL=js_e0c86fa560"
            ]
          },
          "metadata": {}
        },
        {
          "output_type": "display_data",
          "data": {
            "text/plain": [
              "<IPython.core.display.Javascript object>"
            ],
            "application/javascript": [
              "window[\"9415c070-d25a-11ec-b92e-0242ac1c0002\"] = document.querySelector(\"#id10-0-0\");\n",
              "//# sourceURL=js_f0e50aed5c"
            ]
          },
          "metadata": {}
        },
        {
          "output_type": "display_data",
          "data": {
            "text/plain": [
              "<IPython.core.display.Javascript object>"
            ],
            "application/javascript": [
              "window[\"94169c3e-d25a-11ec-b92e-0242ac1c0002\"] = google.colab.output.setActiveOutputArea(window[\"9415c070-d25a-11ec-b92e-0242ac1c0002\"]);\n",
              "//# sourceURL=js_6ad29fad9d"
            ]
          },
          "metadata": {}
        },
        {
          "output_type": "display_data",
          "data": {
            "text/plain": [
              "<IPython.core.display.Javascript object>"
            ],
            "application/javascript": [
              "window[\"94341264-d25a-11ec-b92e-0242ac1c0002\"] = google.colab.output.setActiveOutputArea(window[\"941540a0-d25a-11ec-b92e-0242ac1c0002\"]);\n",
              "//# sourceURL=js_e264898605"
            ]
          },
          "metadata": {}
        },
        {
          "output_type": "stream",
          "name": "stdout",
          "text": [
            "Reward: 7\n"
          ]
        },
        {
          "output_type": "display_data",
          "data": {
            "text/plain": [
              "<IPython.core.display.Javascript object>"
            ],
            "application/javascript": [
              "window[\"94cf29a2-d25a-11ec-b92e-0242ac1c0002\"] = google.colab.output.getActiveOutputArea();\n",
              "//# sourceURL=js_2cae20c7fd"
            ]
          },
          "metadata": {}
        },
        {
          "output_type": "display_data",
          "data": {
            "text/plain": [
              "<IPython.core.display.Javascript object>"
            ],
            "application/javascript": [
              "window[\"94cf92b6-d25a-11ec-b92e-0242ac1c0002\"] = document.querySelector(\"#id10-0-0\");\n",
              "//# sourceURL=js_e7557b3f33"
            ]
          },
          "metadata": {}
        },
        {
          "output_type": "display_data",
          "data": {
            "text/plain": [
              "<IPython.core.display.Javascript object>"
            ],
            "application/javascript": [
              "window[\"94d0053e-d25a-11ec-b92e-0242ac1c0002\"] = google.colab.output.setActiveOutputArea(window[\"94cf92b6-d25a-11ec-b92e-0242ac1c0002\"]);\n",
              "//# sourceURL=js_757df6ef8c"
            ]
          },
          "metadata": {}
        },
        {
          "output_type": "display_data",
          "data": {
            "text/plain": [
              "<IPython.core.display.Javascript object>"
            ],
            "application/javascript": [
              "window[\"94e9ba38-d25a-11ec-b92e-0242ac1c0002\"] = google.colab.output.setActiveOutputArea(window[\"94cf29a2-d25a-11ec-b92e-0242ac1c0002\"]);\n",
              "//# sourceURL=js_de995adc9e"
            ]
          },
          "metadata": {}
        },
        {
          "output_type": "stream",
          "name": "stdout",
          "text": [
            "Reward: -8\n"
          ]
        },
        {
          "output_type": "display_data",
          "data": {
            "text/plain": [
              "<IPython.core.display.Javascript object>"
            ],
            "application/javascript": [
              "window[\"958707ac-d25a-11ec-b92e-0242ac1c0002\"] = google.colab.output.getActiveOutputArea();\n",
              "//# sourceURL=js_adfd140dfc"
            ]
          },
          "metadata": {}
        },
        {
          "output_type": "display_data",
          "data": {
            "text/plain": [
              "<IPython.core.display.Javascript object>"
            ],
            "application/javascript": [
              "window[\"95878812-d25a-11ec-b92e-0242ac1c0002\"] = document.querySelector(\"#id10-0-0\");\n",
              "//# sourceURL=js_24c390bbae"
            ]
          },
          "metadata": {}
        },
        {
          "output_type": "display_data",
          "data": {
            "text/plain": [
              "<IPython.core.display.Javascript object>"
            ],
            "application/javascript": [
              "window[\"9587ff0e-d25a-11ec-b92e-0242ac1c0002\"] = google.colab.output.setActiveOutputArea(window[\"95878812-d25a-11ec-b92e-0242ac1c0002\"]);\n",
              "//# sourceURL=js_8b0dc6071d"
            ]
          },
          "metadata": {}
        },
        {
          "output_type": "display_data",
          "data": {
            "text/plain": [
              "<IPython.core.display.Javascript object>"
            ],
            "application/javascript": [
              "window[\"95a194c8-d25a-11ec-b92e-0242ac1c0002\"] = google.colab.output.setActiveOutputArea(window[\"958707ac-d25a-11ec-b92e-0242ac1c0002\"]);\n",
              "//# sourceURL=js_57b8fe9208"
            ]
          },
          "metadata": {}
        },
        {
          "output_type": "stream",
          "name": "stdout",
          "text": [
            "Reward: -8\n"
          ]
        },
        {
          "output_type": "display_data",
          "data": {
            "text/plain": [
              "<IPython.core.display.Javascript object>"
            ],
            "application/javascript": [
              "window[\"963ea5b0-d25a-11ec-b92e-0242ac1c0002\"] = google.colab.output.getActiveOutputArea();\n",
              "//# sourceURL=js_b6a2249c3f"
            ]
          },
          "metadata": {}
        },
        {
          "output_type": "display_data",
          "data": {
            "text/plain": [
              "<IPython.core.display.Javascript object>"
            ],
            "application/javascript": [
              "window[\"963f012c-d25a-11ec-b92e-0242ac1c0002\"] = document.querySelector(\"#id10-0-0\");\n",
              "//# sourceURL=js_5997e100c4"
            ]
          },
          "metadata": {}
        },
        {
          "output_type": "display_data",
          "data": {
            "text/plain": [
              "<IPython.core.display.Javascript object>"
            ],
            "application/javascript": [
              "window[\"963f58fc-d25a-11ec-b92e-0242ac1c0002\"] = google.colab.output.setActiveOutputArea(window[\"963f012c-d25a-11ec-b92e-0242ac1c0002\"]);\n",
              "//# sourceURL=js_398e09e127"
            ]
          },
          "metadata": {}
        },
        {
          "output_type": "display_data",
          "data": {
            "text/plain": [
              "<IPython.core.display.Javascript object>"
            ],
            "application/javascript": [
              "window[\"965abd86-d25a-11ec-b92e-0242ac1c0002\"] = google.colab.output.setActiveOutputArea(window[\"963ea5b0-d25a-11ec-b92e-0242ac1c0002\"]);\n",
              "//# sourceURL=js_299288215b"
            ]
          },
          "metadata": {}
        },
        {
          "output_type": "stream",
          "name": "stdout",
          "text": [
            "Reward: -8\n"
          ]
        },
        {
          "output_type": "display_data",
          "data": {
            "text/plain": [
              "<IPython.core.display.Javascript object>"
            ],
            "application/javascript": [
              "window[\"96f5ae7c-d25a-11ec-b92e-0242ac1c0002\"] = google.colab.output.getActiveOutputArea();\n",
              "//# sourceURL=js_5843bea6fe"
            ]
          },
          "metadata": {}
        },
        {
          "output_type": "display_data",
          "data": {
            "text/plain": [
              "<IPython.core.display.Javascript object>"
            ],
            "application/javascript": [
              "window[\"96f60c32-d25a-11ec-b92e-0242ac1c0002\"] = document.querySelector(\"#id10-0-0\");\n",
              "//# sourceURL=js_2a7f691956"
            ]
          },
          "metadata": {}
        },
        {
          "output_type": "display_data",
          "data": {
            "text/plain": [
              "<IPython.core.display.Javascript object>"
            ],
            "application/javascript": [
              "window[\"96f649f4-d25a-11ec-b92e-0242ac1c0002\"] = google.colab.output.setActiveOutputArea(window[\"96f60c32-d25a-11ec-b92e-0242ac1c0002\"]);\n",
              "//# sourceURL=js_bd0cc58ef7"
            ]
          },
          "metadata": {}
        },
        {
          "output_type": "display_data",
          "data": {
            "text/plain": [
              "<IPython.core.display.Javascript object>"
            ],
            "application/javascript": [
              "window[\"970fab24-d25a-11ec-b92e-0242ac1c0002\"] = google.colab.output.setActiveOutputArea(window[\"96f5ae7c-d25a-11ec-b92e-0242ac1c0002\"]);\n",
              "//# sourceURL=js_80c21e090f"
            ]
          },
          "metadata": {}
        },
        {
          "output_type": "stream",
          "name": "stdout",
          "text": [
            "Reward: -8\n"
          ]
        },
        {
          "output_type": "display_data",
          "data": {
            "text/plain": [
              "<IPython.core.display.Javascript object>"
            ],
            "application/javascript": [
              "window[\"97aaab24-d25a-11ec-b92e-0242ac1c0002\"] = google.colab.output.getActiveOutputArea();\n",
              "//# sourceURL=js_4f3db7b5bd"
            ]
          },
          "metadata": {}
        },
        {
          "output_type": "display_data",
          "data": {
            "text/plain": [
              "<IPython.core.display.Javascript object>"
            ],
            "application/javascript": [
              "window[\"97ab1cbc-d25a-11ec-b92e-0242ac1c0002\"] = document.querySelector(\"#id10-0-0\");\n",
              "//# sourceURL=js_6c09c96e5f"
            ]
          },
          "metadata": {}
        },
        {
          "output_type": "display_data",
          "data": {
            "text/plain": [
              "<IPython.core.display.Javascript object>"
            ],
            "application/javascript": [
              "window[\"97ab7ad6-d25a-11ec-b92e-0242ac1c0002\"] = google.colab.output.setActiveOutputArea(window[\"97ab1cbc-d25a-11ec-b92e-0242ac1c0002\"]);\n",
              "//# sourceURL=js_590b752fb7"
            ]
          },
          "metadata": {}
        },
        {
          "output_type": "display_data",
          "data": {
            "text/plain": [
              "<IPython.core.display.Javascript object>"
            ],
            "application/javascript": [
              "window[\"97c41596-d25a-11ec-b92e-0242ac1c0002\"] = google.colab.output.setActiveOutputArea(window[\"97aaab24-d25a-11ec-b92e-0242ac1c0002\"]);\n",
              "//# sourceURL=js_b190071654"
            ]
          },
          "metadata": {}
        },
        {
          "output_type": "stream",
          "name": "stdout",
          "text": [
            "Reward: -8\n"
          ]
        },
        {
          "output_type": "display_data",
          "data": {
            "text/plain": [
              "<IPython.core.display.Javascript object>"
            ],
            "application/javascript": [
              "window[\"985f0d9e-d25a-11ec-b92e-0242ac1c0002\"] = google.colab.output.getActiveOutputArea();\n",
              "//# sourceURL=js_5c40397d23"
            ]
          },
          "metadata": {}
        },
        {
          "output_type": "display_data",
          "data": {
            "text/plain": [
              "<IPython.core.display.Javascript object>"
            ],
            "application/javascript": [
              "window[\"985f7036-d25a-11ec-b92e-0242ac1c0002\"] = document.querySelector(\"#id10-0-0\");\n",
              "//# sourceURL=js_e76e6a8e2f"
            ]
          },
          "metadata": {}
        },
        {
          "output_type": "display_data",
          "data": {
            "text/plain": [
              "<IPython.core.display.Javascript object>"
            ],
            "application/javascript": [
              "window[\"9860005a-d25a-11ec-b92e-0242ac1c0002\"] = google.colab.output.setActiveOutputArea(window[\"985f7036-d25a-11ec-b92e-0242ac1c0002\"]);\n",
              "//# sourceURL=js_7bb4a46d01"
            ]
          },
          "metadata": {}
        },
        {
          "output_type": "display_data",
          "data": {
            "text/plain": [
              "<IPython.core.display.Javascript object>"
            ],
            "application/javascript": [
              "window[\"9879d458-d25a-11ec-b92e-0242ac1c0002\"] = google.colab.output.setActiveOutputArea(window[\"985f0d9e-d25a-11ec-b92e-0242ac1c0002\"]);\n",
              "//# sourceURL=js_d58d975f99"
            ]
          },
          "metadata": {}
        },
        {
          "output_type": "stream",
          "name": "stdout",
          "text": [
            "Reward: 0\n"
          ]
        },
        {
          "output_type": "display_data",
          "data": {
            "text/plain": [
              "<IPython.core.display.Javascript object>"
            ],
            "application/javascript": [
              "window[\"99150c02-d25a-11ec-b92e-0242ac1c0002\"] = google.colab.output.getActiveOutputArea();\n",
              "//# sourceURL=js_737efc9fb6"
            ]
          },
          "metadata": {}
        },
        {
          "output_type": "display_data",
          "data": {
            "text/plain": [
              "<IPython.core.display.Javascript object>"
            ],
            "application/javascript": [
              "window[\"99159370-d25a-11ec-b92e-0242ac1c0002\"] = document.querySelector(\"#id10-0-0\");\n",
              "//# sourceURL=js_57f64468c7"
            ]
          },
          "metadata": {}
        },
        {
          "output_type": "display_data",
          "data": {
            "text/plain": [
              "<IPython.core.display.Javascript object>"
            ],
            "application/javascript": [
              "window[\"99163618-d25a-11ec-b92e-0242ac1c0002\"] = google.colab.output.setActiveOutputArea(window[\"99159370-d25a-11ec-b92e-0242ac1c0002\"]);\n",
              "//# sourceURL=js_455aa497b3"
            ]
          },
          "metadata": {}
        },
        {
          "output_type": "display_data",
          "data": {
            "text/plain": [
              "<IPython.core.display.Javascript object>"
            ],
            "application/javascript": [
              "window[\"992e65da-d25a-11ec-b92e-0242ac1c0002\"] = google.colab.output.setActiveOutputArea(window[\"99150c02-d25a-11ec-b92e-0242ac1c0002\"]);\n",
              "//# sourceURL=js_956aa1d6c3"
            ]
          },
          "metadata": {}
        },
        {
          "output_type": "stream",
          "name": "stdout",
          "text": [
            "Reward: 0\n"
          ]
        },
        {
          "output_type": "display_data",
          "data": {
            "text/plain": [
              "<IPython.core.display.Javascript object>"
            ],
            "application/javascript": [
              "window[\"99c9762e-d25a-11ec-b92e-0242ac1c0002\"] = google.colab.output.getActiveOutputArea();\n",
              "//# sourceURL=js_ee37e69347"
            ]
          },
          "metadata": {}
        },
        {
          "output_type": "display_data",
          "data": {
            "text/plain": [
              "<IPython.core.display.Javascript object>"
            ],
            "application/javascript": [
              "window[\"99ca13cc-d25a-11ec-b92e-0242ac1c0002\"] = document.querySelector(\"#id10-0-0\");\n",
              "//# sourceURL=js_71e977f1f0"
            ]
          },
          "metadata": {}
        },
        {
          "output_type": "display_data",
          "data": {
            "text/plain": [
              "<IPython.core.display.Javascript object>"
            ],
            "application/javascript": [
              "window[\"99ca734e-d25a-11ec-b92e-0242ac1c0002\"] = google.colab.output.setActiveOutputArea(window[\"99ca13cc-d25a-11ec-b92e-0242ac1c0002\"]);\n",
              "//# sourceURL=js_e8be1cae83"
            ]
          },
          "metadata": {}
        },
        {
          "output_type": "display_data",
          "data": {
            "text/plain": [
              "<IPython.core.display.Javascript object>"
            ],
            "application/javascript": [
              "window[\"99eeb330-d25a-11ec-b92e-0242ac1c0002\"] = google.colab.output.setActiveOutputArea(window[\"99c9762e-d25a-11ec-b92e-0242ac1c0002\"]);\n",
              "//# sourceURL=js_4312df18fd"
            ]
          },
          "metadata": {}
        },
        {
          "output_type": "stream",
          "name": "stdout",
          "text": [
            "Reward: 0\n"
          ]
        },
        {
          "output_type": "display_data",
          "data": {
            "text/plain": [
              "<IPython.core.display.Javascript object>"
            ],
            "application/javascript": [
              "window[\"9a8994e0-d25a-11ec-b92e-0242ac1c0002\"] = google.colab.output.getActiveOutputArea();\n",
              "//# sourceURL=js_380ffc123e"
            ]
          },
          "metadata": {}
        },
        {
          "output_type": "display_data",
          "data": {
            "text/plain": [
              "<IPython.core.display.Javascript object>"
            ],
            "application/javascript": [
              "window[\"9a89dbb2-d25a-11ec-b92e-0242ac1c0002\"] = document.querySelector(\"#id10-0-0\");\n",
              "//# sourceURL=js_48829e81b9"
            ]
          },
          "metadata": {}
        },
        {
          "output_type": "display_data",
          "data": {
            "text/plain": [
              "<IPython.core.display.Javascript object>"
            ],
            "application/javascript": [
              "window[\"9a8a2eaa-d25a-11ec-b92e-0242ac1c0002\"] = google.colab.output.setActiveOutputArea(window[\"9a89dbb2-d25a-11ec-b92e-0242ac1c0002\"]);\n",
              "//# sourceURL=js_0e29530ff0"
            ]
          },
          "metadata": {}
        },
        {
          "output_type": "display_data",
          "data": {
            "text/plain": [
              "<IPython.core.display.Javascript object>"
            ],
            "application/javascript": [
              "window[\"9aa46b6c-d25a-11ec-b92e-0242ac1c0002\"] = google.colab.output.setActiveOutputArea(window[\"9a8994e0-d25a-11ec-b92e-0242ac1c0002\"]);\n",
              "//# sourceURL=js_08d8d24639"
            ]
          },
          "metadata": {}
        },
        {
          "output_type": "stream",
          "name": "stdout",
          "text": [
            "Reward: 0\n"
          ]
        },
        {
          "output_type": "display_data",
          "data": {
            "text/plain": [
              "<IPython.core.display.Javascript object>"
            ],
            "application/javascript": [
              "window[\"9b3f4a60-d25a-11ec-b92e-0242ac1c0002\"] = google.colab.output.getActiveOutputArea();\n",
              "//# sourceURL=js_c7118082a6"
            ]
          },
          "metadata": {}
        },
        {
          "output_type": "display_data",
          "data": {
            "text/plain": [
              "<IPython.core.display.Javascript object>"
            ],
            "application/javascript": [
              "window[\"9b3fdc28-d25a-11ec-b92e-0242ac1c0002\"] = document.querySelector(\"#id10-0-0\");\n",
              "//# sourceURL=js_a10cf9250e"
            ]
          },
          "metadata": {}
        },
        {
          "output_type": "display_data",
          "data": {
            "text/plain": [
              "<IPython.core.display.Javascript object>"
            ],
            "application/javascript": [
              "window[\"9b402c78-d25a-11ec-b92e-0242ac1c0002\"] = google.colab.output.setActiveOutputArea(window[\"9b3fdc28-d25a-11ec-b92e-0242ac1c0002\"]);\n",
              "//# sourceURL=js_cf41a25f91"
            ]
          },
          "metadata": {}
        },
        {
          "output_type": "display_data",
          "data": {
            "text/plain": [
              "<IPython.core.display.Javascript object>"
            ],
            "application/javascript": [
              "window[\"9b5803c0-d25a-11ec-b92e-0242ac1c0002\"] = google.colab.output.setActiveOutputArea(window[\"9b3f4a60-d25a-11ec-b92e-0242ac1c0002\"]);\n",
              "//# sourceURL=js_c02c058f86"
            ]
          },
          "metadata": {}
        },
        {
          "output_type": "stream",
          "name": "stdout",
          "text": [
            "Reward: 0\n"
          ]
        },
        {
          "output_type": "display_data",
          "data": {
            "text/plain": [
              "<IPython.core.display.Javascript object>"
            ],
            "application/javascript": [
              "window[\"9bf31cfc-d25a-11ec-b92e-0242ac1c0002\"] = google.colab.output.getActiveOutputArea();\n",
              "//# sourceURL=js_b0af7c0a65"
            ]
          },
          "metadata": {}
        },
        {
          "output_type": "display_data",
          "data": {
            "text/plain": [
              "<IPython.core.display.Javascript object>"
            ],
            "application/javascript": [
              "window[\"9bf3b342-d25a-11ec-b92e-0242ac1c0002\"] = document.querySelector(\"#id10-0-0\");\n",
              "//# sourceURL=js_9706008108"
            ]
          },
          "metadata": {}
        },
        {
          "output_type": "display_data",
          "data": {
            "text/plain": [
              "<IPython.core.display.Javascript object>"
            ],
            "application/javascript": [
              "window[\"9bf40e64-d25a-11ec-b92e-0242ac1c0002\"] = google.colab.output.setActiveOutputArea(window[\"9bf3b342-d25a-11ec-b92e-0242ac1c0002\"]);\n",
              "//# sourceURL=js_e051dba7b3"
            ]
          },
          "metadata": {}
        },
        {
          "output_type": "display_data",
          "data": {
            "text/plain": [
              "<IPython.core.display.Javascript object>"
            ],
            "application/javascript": [
              "window[\"9c0cec04-d25a-11ec-b92e-0242ac1c0002\"] = google.colab.output.setActiveOutputArea(window[\"9bf31cfc-d25a-11ec-b92e-0242ac1c0002\"]);\n",
              "//# sourceURL=js_601674f3e0"
            ]
          },
          "metadata": {}
        },
        {
          "output_type": "stream",
          "name": "stdout",
          "text": [
            "Reward: 0\n"
          ]
        },
        {
          "output_type": "display_data",
          "data": {
            "text/plain": [
              "<IPython.core.display.Javascript object>"
            ],
            "application/javascript": [
              "window[\"9ca7f2c6-d25a-11ec-b92e-0242ac1c0002\"] = google.colab.output.getActiveOutputArea();\n",
              "//# sourceURL=js_16926b5331"
            ]
          },
          "metadata": {}
        },
        {
          "output_type": "display_data",
          "data": {
            "text/plain": [
              "<IPython.core.display.Javascript object>"
            ],
            "application/javascript": [
              "window[\"9ca87214-d25a-11ec-b92e-0242ac1c0002\"] = document.querySelector(\"#id10-0-0\");\n",
              "//# sourceURL=js_40a14f1bec"
            ]
          },
          "metadata": {}
        },
        {
          "output_type": "display_data",
          "data": {
            "text/plain": [
              "<IPython.core.display.Javascript object>"
            ],
            "application/javascript": [
              "window[\"9ca8db64-d25a-11ec-b92e-0242ac1c0002\"] = google.colab.output.setActiveOutputArea(window[\"9ca87214-d25a-11ec-b92e-0242ac1c0002\"]);\n",
              "//# sourceURL=js_59c5d491b3"
            ]
          },
          "metadata": {}
        },
        {
          "output_type": "display_data",
          "data": {
            "text/plain": [
              "<IPython.core.display.Javascript object>"
            ],
            "application/javascript": [
              "window[\"9cc3613c-d25a-11ec-b92e-0242ac1c0002\"] = google.colab.output.setActiveOutputArea(window[\"9ca7f2c6-d25a-11ec-b92e-0242ac1c0002\"]);\n",
              "//# sourceURL=js_c49da3770d"
            ]
          },
          "metadata": {}
        },
        {
          "output_type": "stream",
          "name": "stdout",
          "text": [
            "Reward: 0\n"
          ]
        },
        {
          "output_type": "display_data",
          "data": {
            "text/plain": [
              "<IPython.core.display.Javascript object>"
            ],
            "application/javascript": [
              "window[\"9d5ed838-d25a-11ec-b92e-0242ac1c0002\"] = google.colab.output.getActiveOutputArea();\n",
              "//# sourceURL=js_219b8e140c"
            ]
          },
          "metadata": {}
        },
        {
          "output_type": "display_data",
          "data": {
            "text/plain": [
              "<IPython.core.display.Javascript object>"
            ],
            "application/javascript": [
              "window[\"9d5f7df6-d25a-11ec-b92e-0242ac1c0002\"] = document.querySelector(\"#id10-0-0\");\n",
              "//# sourceURL=js_21072ea364"
            ]
          },
          "metadata": {}
        },
        {
          "output_type": "display_data",
          "data": {
            "text/plain": [
              "<IPython.core.display.Javascript object>"
            ],
            "application/javascript": [
              "window[\"9d5fdf26-d25a-11ec-b92e-0242ac1c0002\"] = google.colab.output.setActiveOutputArea(window[\"9d5f7df6-d25a-11ec-b92e-0242ac1c0002\"]);\n",
              "//# sourceURL=js_2889bf1669"
            ]
          },
          "metadata": {}
        },
        {
          "output_type": "display_data",
          "data": {
            "text/plain": [
              "<Figure size 432x288 with 1 Axes>"
            ],
            "image/png": "[encoded data removed]"
          },
          "metadata": {
            "needs_background": "light"
          }
        },
        {
          "output_type": "display_data",
          "data": {
            "text/plain": [
              "<IPython.core.display.Javascript object>"
            ],
            "application/javascript": [
              "window[\"9d7b28d0-d25a-11ec-b92e-0242ac1c0002\"] = google.colab.output.setActiveOutputArea(window[\"9d5ed838-d25a-11ec-b92e-0242ac1c0002\"]);\n",
              "//# sourceURL=js_fc9acc95ee"
            ]
          },
          "metadata": {}
        },
        {
          "output_type": "stream",
          "name": "stdout",
          "text": [
            "Reward: 0\n"
          ]
        }
      ]
    },
    {
      "cell_type": "markdown",
      "source": [
        "### 20 episodes with greedy policy-\n",
        "\n",
        "\n"
      ],
      "metadata": {
        "id": "qjSVbQVaLc6l"
      }
    },
    {
      "cell_type": "code",
      "source": [
        "rew_epsd=[]\n",
        "for i in np.linspace(1,20):\n",
        "  sarsa_obsrv = sarsa_obs.env.reset()\n",
        "  itr_done= True\n",
        "  tot_rew =+ 0\n",
        "  while itr_done:\n",
        "    player_current=int(np.where(sarsa_obsrv==1)[0][0])\n",
        "    activity1= int(np.argmax(sarsa_obs.Q_table, axis=1)[player_current])\n",
        "    observ, reward, done, info = sarsa_obs.env.step(action)\n",
        "    tot_rew +=reward\n",
        "    sarsa_obsrv = observ\n",
        "    itr_done= done\n",
        "  rew_epsd.append(tot_rew) \n",
        "plt.plot(rew_epsd,color='blue') \n",
        "plt.xticks(range(0,len(rew_epsd)+1, 1)) \n",
        "plt.ylabel('rewards')\n",
        "plt.xlabel('epoch') \n",
        "plt.title(\"Reward greedy 20 episodes \") \n",
        "plt.show()"
      ],
      "metadata": {
        "colab": {
          "base_uri": "https://localhost:8080/",
          "height": 295
        },
        "id": "vPh4cLaZr2If",
        "outputId": "032eb657-a170-4919-9e93-6aeea2591595"
      },
      "execution_count": null,
      "outputs": [
        {
          "output_type": "display_data",
          "data": {
            "text/plain": [
              "<Figure size 432x288 with 1 Axes>"
            ],
            "image/png": "[encoded data removed]"
          },
          "metadata": {
            "needs_background": "light"
          }
        }
      ]
    },
    {
      "cell_type": "markdown",
      "source": [
        "### Tuning Hyperparameters"
      ],
      "metadata": {
        "id": "XF1-lxXNMi4o"
      }
    },
    {
      "cell_type": "markdown",
      "source": [
        "Episode 400 and decay = 0.990"
      ],
      "metadata": {
        "id": "awZij4rTMi76"
      }
    },
    {
      "cell_type": "code",
      "source": [
        "env2 = GridEnvironment()\n",
        "player2 = RandomAgent(env2)\n",
        "sarsa_obs2 = SARSA(env2,player2)\n",
        "sarsa_obs2.model(0.2,0.8,400,0.990)\n",
        "plt.figure(figsize=(10,5))\n",
        "plt.xlabel('Episode')\n",
        "plt.ylabel('Rewards')\n",
        "plt.plot(sarsa_obs2.values_rew)"
      ],
      "metadata": {
        "colab": {
          "base_uri": "https://localhost:8080/",
          "height": 355
        },
        "id": "o2UyeGCntFIG",
        "outputId": "1d61276d-f3a5-4baf-deaa-3c55ffd8acb0"
      },
      "execution_count": null,
      "outputs": [
        {
          "output_type": "execute_result",
          "data": {
            "text/plain": [
              "[<matplotlib.lines.Line2D at 0x7f7ee17de210>]"
            ]
          },
          "metadata": {},
          "execution_count": 18
        },
        {
          "output_type": "display_data",
          "data": {
            "text/plain": [
              "<Figure size 720x360 with 1 Axes>"
            ],
            "image/png": "[encoded data removed]"
          },
          "metadata": {
            "needs_background": "light"
          }
        }
      ]
    },
    {
      "cell_type": "markdown",
      "source": [
        "Episode 400 and decay = 0.985"
      ],
      "metadata": {
        "id": "1qVZm7NXMwkY"
      }
    },
    {
      "cell_type": "code",
      "source": [
        "env2 = GridEnvironment()\n",
        "player2 = RandomAgent(env2)\n",
        "sarsa_obs2 = SARSA(env2,player2)\n",
        "sarsa_obs2.model(0.2,0.8,400,0.985)\n",
        "plt.figure(figsize=(10,5))\n",
        "plt.xlabel('DET Episode')\n",
        "plt.ylabel('Rewards')\n",
        "plt.plot(sarsa_obs2.values_rew)"
      ],
      "metadata": {
        "colab": {
          "base_uri": "https://localhost:8080/",
          "height": 355
        },
        "id": "CQg9UsmstKfl",
        "outputId": "2991fbe0-9882-4707-a926-8cc75b3f5e28"
      },
      "execution_count": null,
      "outputs": [
        {
          "output_type": "execute_result",
          "data": {
            "text/plain": [
              "[<matplotlib.lines.Line2D at 0x7f7ee1716390>]"
            ]
          },
          "metadata": {},
          "execution_count": 19
        },
        {
          "output_type": "display_data",
          "data": {
            "text/plain": [
              "<Figure size 720x360 with 1 Axes>"
            ],
            "image/png": "[encoded data removed]"
          },
          "metadata": {
            "needs_background": "light"
          }
        }
      ]
    },
    {
      "cell_type": "markdown",
      "source": [
        "Episode 400 and decay = 0.980"
      ],
      "metadata": {
        "id": "6YgWHSMCND3h"
      }
    },
    {
      "cell_type": "code",
      "source": [
        "env3 = GridEnvironment()\n",
        "player3 = RandomAgent(env3)\n",
        "sarsa_obs3 = SARSA(env3,player3)\n",
        "sarsa_obs3.model(0.2,0.8,400,0.980)\n",
        "plt.figure(figsize=(10,5))\n",
        "plt.xlabel(' Episode')\n",
        "plt.ylabel('Rewards')\n",
        "plt.plot(sarsa_obs3.values_rew)"
      ],
      "metadata": {
        "colab": {
          "base_uri": "https://localhost:8080/",
          "height": 354
        },
        "id": "bQlkE9gLsim7",
        "outputId": "0a9a508f-c075-424e-97e7-9167ab90816f"
      },
      "execution_count": null,
      "outputs": [
        {
          "output_type": "execute_result",
          "data": {
            "text/plain": [
              "[<matplotlib.lines.Line2D at 0x7f7ee1431890>]"
            ]
          },
          "metadata": {},
          "execution_count": 20
        },
        {
          "output_type": "display_data",
          "data": {
            "text/plain": [
              "<Figure size 720x360 with 1 Axes>"
            ],
            "image/png": "[encoded data removed]"
          },
          "metadata": {
            "needs_background": "light"
          }
        }
      ]
    },
    {
      "cell_type": "markdown",
      "source": [
        "For decay rate 0.980 we got better results , hence we will keep decay rate - 0.980 and will modify 2nd hyperparameter , i.e. episodes"
      ],
      "metadata": {
        "id": "Heq6IA8Bud_g"
      }
    },
    {
      "cell_type": "markdown",
      "source": [
        "Episode = 300"
      ],
      "metadata": {
        "id": "ywBwyGFENRXY"
      }
    },
    {
      "cell_type": "code",
      "source": [
        "env3 = GridEnvironment()\n",
        "player3 = RandomAgent(env3)\n",
        "sarsa_obs3 = SARSA(env3,player3)\n",
        "sarsa_obs3.model(0.2,0.8,300,0.980)\n",
        "plt.figure(figsize=(10,5))\n",
        "plt.xlabel('Episode')\n",
        "plt.ylabel('Total Rewards')\n",
        "plt.plot(sarsa_obs3.values_rew)"
      ],
      "metadata": {
        "colab": {
          "base_uri": "https://localhost:8080/",
          "height": 352
        },
        "id": "CGRz4kuxsipQ",
        "outputId": "6d3b7428-534e-4730-cf16-ae3379107464"
      },
      "execution_count": null,
      "outputs": [
        {
          "output_type": "execute_result",
          "data": {
            "text/plain": [
              "[<matplotlib.lines.Line2D at 0x7f7ee18e1090>]"
            ]
          },
          "metadata": {},
          "execution_count": 21
        },
        {
          "output_type": "display_data",
          "data": {
            "text/plain": [
              "<Figure size 720x360 with 1 Axes>"
            ],
            "image/png": "[encoded data removed]"
          },
          "metadata": {
            "needs_background": "light"
          }
        }
      ]
    },
    {
      "cell_type": "markdown",
      "source": [
        "Episode = 200"
      ],
      "metadata": {
        "id": "f70XZmSeNh8L"
      }
    },
    {
      "cell_type": "code",
      "source": [
        "env3 = GridEnvironment()\n",
        "player3 = RandomAgent(env3)\n",
        "sarsa_obs3 = SARSA(env3,player3)\n",
        "sarsa_obs3.model(0.2,0.8,200,0.980)\n",
        "plt.figure(figsize=(10,5))\n",
        "plt.xlabel('Episode')\n",
        "plt.ylabel(' Rewards')\n",
        "plt.plot(sarsa_obs3.values_rew)"
      ],
      "metadata": {
        "colab": {
          "base_uri": "https://localhost:8080/",
          "height": 355
        },
        "id": "MNv4DihLsir6",
        "outputId": "814eb8e7-62e0-4fda-8ee4-787eb43729db"
      },
      "execution_count": null,
      "outputs": [
        {
          "output_type": "execute_result",
          "data": {
            "text/plain": [
              "[<matplotlib.lines.Line2D at 0x7f7ee179e4d0>]"
            ]
          },
          "metadata": {},
          "execution_count": 22
        },
        {
          "output_type": "display_data",
          "data": {
            "text/plain": [
              "<Figure size 720x360 with 1 Axes>"
            ],
            "image/png": "[encoded data removed]"
          },
          "metadata": {
            "needs_background": "light"
          }
        }
      ]
    },
    {
      "cell_type": "markdown",
      "source": [
        "Episode = 100"
      ],
      "metadata": {
        "id": "Ep5H3ssoNxbS"
      }
    },
    {
      "cell_type": "code",
      "source": [
        "env3 = GridEnvironment()\n",
        "player3 = RandomAgent(env3)\n",
        "sarsa_obs3 = SARSA(env3,player3)\n",
        "sarsa_obs3.model(0.2,0.8,100,0.980)\n",
        "plt.figure(figsize=(10,5))\n",
        "plt.xlabel('Episode')\n",
        "plt.ylabel('Rewards')\n",
        "plt.plot(sarsa_obs3.values_rew)"
      ],
      "metadata": {
        "colab": {
          "base_uri": "https://localhost:8080/",
          "height": 355
        },
        "id": "WUm_1ODasive",
        "outputId": "f4838dd9-3748-4e49-c3b1-ec4cd3d73fc6"
      },
      "execution_count": null,
      "outputs": [
        {
          "output_type": "execute_result",
          "data": {
            "text/plain": [
              "[<matplotlib.lines.Line2D at 0x7f7ee11e92d0>]"
            ]
          },
          "metadata": {},
          "execution_count": 23
        },
        {
          "output_type": "display_data",
          "data": {
            "text/plain": [
              "<Figure size 720x360 with 1 Axes>"
            ],
            "image/png": "[encoded data removed]"
          },
          "metadata": {
            "needs_background": "light"
          }
        }
      ]
    },
    {
      "cell_type": "markdown",
      "source": [
        "Comparison between Q learning and SARSA algorithm"
      ],
      "metadata": {
        "id": "luZRg7QbN_bL"
      }
    },
    {
      "cell_type": "code",
      "source": [
        "def smooth_graph(param):\n",
        "  return [np.mean(param[i:i+1]) for i in range(1, len(param))]\n",
        "Q_learn = smooth_graph(sarsa_obs2.values_rew)\n",
        "S_learn = smooth_graph(sarsa_obs2.values_estm)"
      ],
      "metadata": {
        "id": "z0oj3Obhm4qN"
      },
      "execution_count": null,
      "outputs": []
    },
    {
      "cell_type": "code",
      "source": [
        "fig = plt.figure(figsize=(20, 6))\n",
        "ax = fig.add_subplot(121)\n",
        "plt.xlabel('Q Learning')\n",
        "plt.ylabel('Rewards')\n",
        "ax2 = fig.add_subplot(122)\n",
        "plt.xlabel('SARSA')\n",
        "plt.ylabel('Rewards')\n",
        "ax.plot(Q_learn)\n",
        "ax2.plot(S_learn)\n",
        "plt.show()"
      ],
      "metadata": {
        "colab": {
          "base_uri": "https://localhost:8080/",
          "height": 392
        },
        "id": "Sk9z5y2HlbUw",
        "outputId": "8b9e14c7-d31e-4ba5-fa44-49ddf1fef2b3"
      },
      "execution_count": null,
      "outputs": [
        {
          "output_type": "display_data",
          "data": {
            "text/plain": [
              "<Figure size 1440x432 with 2 Axes>"
            ],
            "image/png": "[encoded data removed]"
          },
          "metadata": {
            "needs_background": "light"
          }
        }
      ]
    },
    {
      "cell_type": "markdown",
      "source": [
        "References"
      ],
      "metadata": {
        "id": "8vO3ugGGJkxb"
      }
    },
    {
      "cell_type": "markdown",
      "source": [
        "REFERENCES:\n",
        "1.Geeks for geeks for graphs\n",
        "2. https://www.geeksforgeeks.org/sarsa-reinforcement-learning/\n",
        "3. https://en.wikipedia.org/wiki/State%E2%80%93action%E2%80%93reward%E2%80%93state%E2%80%93actio\n",
        "4. https://towardsdatascience.com/simple-reinforcement-learning-q-learning-fcddc4b6fe56\n",
        "5. https://www.simplilearn.com/tutorials/machine-learning-tutorial/what-is-q-learning\n",
        "6. Instructor’s notes/slides/references codes\n"
      ],
      "metadata": {
        "id": "9PBoRgEYJnYf"
      }
    },
    {
      "cell_type": "code",
      "source": [
        ""
      ],
      "metadata": {
        "id": "ol0Am2TFJqJO"
      },
      "execution_count": null,
      "outputs": []
    }
  ],
  "metadata": {
    "colab": {
      "collapsed_sections": [],
      "name": "cdesai_htanpure_assignment4_final.ipynb",
      "provenance": []
    },
    "kernelspec": {
      "display_name": "Python 3 (ipykernel)",
      "language": "python",
      "name": "python3"
    },
    "language_info": {
      "codemirror_mode": {
        "name": "ipython",
        "version": 3
      },
      "file_extension": ".py",
      "mimetype": "text/x-python",
      "name": "python",
      "nbconvert_exporter": "python",
      "pygments_lexer": "ipython3",
      "version": "3.9.7"
    }
  },
  "nbformat": 4,
  "nbformat_minor": 0
}